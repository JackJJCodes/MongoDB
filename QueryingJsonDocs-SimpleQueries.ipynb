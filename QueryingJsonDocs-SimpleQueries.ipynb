{
 "cells": [
  {
   "cell_type": "code",
   "execution_count": 1,
   "metadata": {},
   "outputs": [],
   "source": [
    "import pymongo"
   ]
  },
  {
   "cell_type": "code",
   "execution_count": 2,
   "metadata": {},
   "outputs": [],
   "source": [
    "client = pymongo.MongoClient('mongodb://127.0.0.1/')"
   ]
  },
  {
   "cell_type": "code",
   "execution_count": 3,
   "metadata": {},
   "outputs": [],
   "source": [
    "mydb = client['Employee']\n",
    "empinfo = mydb.employeeInformation"
   ]
  },
  {
   "cell_type": "code",
   "execution_count": 15,
   "metadata": {},
   "outputs": [],
   "source": [
    "records = [{\n",
    "    'firstname':'Jack',\n",
    "    'lastname':'Jacobs',\n",
    "    'department':'Analytics',\n",
    "    'age':18\n",
    "}, \n",
    "    {\n",
    "    'firstname':'Nick',\n",
    "    'lastname':'Jacobs',\n",
    "    'department':'Mechanics',\n",
    "        'age':25\n",
    "    }, \n",
    "    {\n",
    "    'firstname':'James',\n",
    "    'lastname':'Garner',\n",
    "    'department':'Athletics',\n",
    "        'age':32\n",
    "    }]"
   ]
  },
  {
   "cell_type": "code",
   "execution_count": 16,
   "metadata": {},
   "outputs": [
    {
     "data": {
      "text/plain": [
       "<pymongo.results.InsertManyResult at 0x7f2aee1e3d80>"
      ]
     },
     "execution_count": 16,
     "metadata": {},
     "output_type": "execute_result"
    }
   ],
   "source": [
    "empinfo.insert_many(records)"
   ]
  },
  {
   "cell_type": "code",
   "execution_count": 17,
   "metadata": {},
   "outputs": [
    {
     "data": {
      "text/plain": [
       "{'_id': ObjectId('6134a852d744e74b7002b726'),\n",
       " 'firstname': 'Jack',\n",
       " 'lastname': 'Jacobs',\n",
       " 'department': 'Analytics'}"
      ]
     },
     "execution_count": 17,
     "metadata": {},
     "output_type": "execute_result"
    }
   ],
   "source": [
    "## Simple way of querying:\n",
    "empinfo.find_one()"
   ]
  },
  {
   "cell_type": "code",
   "execution_count": 18,
   "metadata": {
    "scrolled": true
   },
   "outputs": [
    {
     "name": "stdout",
     "output_type": "stream",
     "text": [
      "{'_id': ObjectId('6134a852d744e74b7002b726'), 'firstname': 'Jack', 'lastname': 'Jacobs', 'department': 'Analytics'}\n",
      "{'_id': ObjectId('6134a852d744e74b7002b727'), 'firstname': 'Nick', 'lastname': 'Jacobs', 'department': 'Mechanics'}\n",
      "{'_id': ObjectId('6134a852d744e74b7002b728'), 'firstname': 'James', 'lastname': 'Garner', 'department': 'Athletics'}\n",
      "{'_id': ObjectId('6134a95bd744e74b7002b729'), 'firstname': 'Jack', 'lastname': 'Jacobs', 'department': 'Analytics', 'age': 18}\n",
      "{'_id': ObjectId('6134a95bd744e74b7002b72a'), 'firstname': 'Nick', 'lastname': 'Jacobs', 'department': 'Mechanics', 'age': 25}\n",
      "{'_id': ObjectId('6134a95bd744e74b7002b72b'), 'firstname': 'James', 'lastname': 'Garner', 'department': 'Athletics', 'age': 32}\n"
     ]
    }
   ],
   "source": [
    "## SQL equivalent: SLEECT * FROM employeeInformation\n",
    "for record in empinfo.find():\n",
    "    print(record)"
   ]
  },
  {
   "cell_type": "code",
   "execution_count": 19,
   "metadata": {},
   "outputs": [
    {
     "name": "stdout",
     "output_type": "stream",
     "text": [
      "{'_id': ObjectId('6134a852d744e74b7002b728'), 'firstname': 'James', 'lastname': 'Garner', 'department': 'Athletics'}\n",
      "{'_id': ObjectId('6134a95bd744e74b7002b72b'), 'firstname': 'James', 'lastname': 'Garner', 'department': 'Athletics', 'age': 32}\n"
     ]
    }
   ],
   "source": [
    "## Query the json documents based on equality conditions:\n",
    "## SELECT * FROM employeeInformation WHERE firstname=\"James\"\n",
    "\n",
    "for record in empinfo.find({'firstname':'James'}):\n",
    "    print(record)"
   ]
  },
  {
   "cell_type": "code",
   "execution_count": 20,
   "metadata": {},
   "outputs": [
    {
     "name": "stdout",
     "output_type": "stream",
     "text": [
      "{'_id': ObjectId('6134a852d744e74b7002b726'), 'firstname': 'Jack', 'lastname': 'Jacobs', 'department': 'Analytics'}\n",
      "{'_id': ObjectId('6134a852d744e74b7002b728'), 'firstname': 'James', 'lastname': 'Garner', 'department': 'Athletics'}\n",
      "{'_id': ObjectId('6134a95bd744e74b7002b729'), 'firstname': 'Jack', 'lastname': 'Jacobs', 'department': 'Analytics', 'age': 18}\n",
      "{'_id': ObjectId('6134a95bd744e74b7002b72b'), 'firstname': 'James', 'lastname': 'Garner', 'department': 'Athletics', 'age': 32}\n"
     ]
    }
   ],
   "source": [
    "## Query documents using query operators($in, $lt, $gt):\n",
    "for record in empinfo.find({'department':{'$in':['Analytics', 'Athletics']}}):\n",
    "    print(record)"
   ]
  },
  {
   "cell_type": "code",
   "execution_count": 21,
   "metadata": {},
   "outputs": [
    {
     "name": "stdout",
     "output_type": "stream",
     "text": [
      "{'_id': ObjectId('6134a95bd744e74b7002b729'), 'firstname': 'Jack', 'lastname': 'Jacobs', 'department': 'Analytics', 'age': 18}\n"
     ]
    }
   ],
   "source": [
    "for record in empinfo.find({'department':'Analytics', 'age':{'$lt':30}}):\n",
    "    print(record)"
   ]
  },
  {
   "cell_type": "code",
   "execution_count": 22,
   "metadata": {},
   "outputs": [
    {
     "name": "stdout",
     "output_type": "stream",
     "text": [
      "{'_id': ObjectId('6134a852d744e74b7002b726'), 'firstname': 'Jack', 'lastname': 'Jacobs', 'department': 'Analytics'}\n",
      "{'_id': ObjectId('6134a95bd744e74b7002b729'), 'firstname': 'Jack', 'lastname': 'Jacobs', 'department': 'Analytics', 'age': 18}\n"
     ]
    }
   ],
   "source": [
    "for record in empinfo.find({'$and':[{'firstname':'Jack'}, {'department':'Analytics'}]}):\n",
    "    print(record)"
   ]
  },
  {
   "cell_type": "code",
   "execution_count": 23,
   "metadata": {},
   "outputs": [],
   "source": [
    "inventory = mydb.inventory"
   ]
  },
  {
   "cell_type": "code",
   "execution_count": 24,
   "metadata": {},
   "outputs": [],
   "source": [
    "inventory.insert_many( [\n",
    "   { 'item': \"journal\", 'qty': 25, 'size': { 'h': 14, 'w': 21,'uom': \"cm\" }, 'status': \"A\" },\n",
    "   { 'item': \"notebook\", 'qty': 50,'size': { 'h': 8.5, 'w': 11,'uom': \"in\" },'status': \"A\" },\n",
    "   { 'item': \"paper\", 'qty': 100, 'size': { 'h': 8.5, 'w': 11,'uom': \"in\" },'status': \"D\" },\n",
    "   { 'item': \"planner\", 'qty': 75, 'size': { 'h': 22.85,'w': 30,'uom': \"cm\" },'status': \"D\" },\n",
    "   { 'item': \"postcard\", 'qty': 45, 'size': { 'h': 10, 'w': 15.25,'uom': \"cm\" },'status': \"A\" }\n",
    "]);"
   ]
  },
  {
   "cell_type": "code",
   "execution_count": 25,
   "metadata": {},
   "outputs": [
    {
     "name": "stdout",
     "output_type": "stream",
     "text": [
      "{'_id': ObjectId('6134aab7d744e74b7002b72c'), 'item': 'journal', 'qty': 25, 'size': {'h': 14, 'w': 21, 'uom': 'cm'}, 'status': 'A'}\n"
     ]
    }
   ],
   "source": [
    "for records in inventory.find({'size':{'h': 14, 'w': 21,'uom': \"cm\"}}):\n",
    "    print(records)"
   ]
  },
  {
   "cell_type": "code",
   "execution_count": null,
   "metadata": {},
   "outputs": [],
   "source": []
  }
 ],
 "metadata": {
  "kernelspec": {
   "display_name": "Python 3",
   "language": "python",
   "name": "python3"
  },
  "language_info": {
   "codemirror_mode": {
    "name": "ipython",
    "version": 3
   },
   "file_extension": ".py",
   "mimetype": "text/x-python",
   "name": "python",
   "nbconvert_exporter": "python",
   "pygments_lexer": "ipython3",
   "version": "3.8.3"
  }
 },
 "nbformat": 4,
 "nbformat_minor": 4
}
