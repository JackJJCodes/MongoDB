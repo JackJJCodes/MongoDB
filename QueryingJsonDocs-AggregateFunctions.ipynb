{
 "cells": [
  {
   "cell_type": "markdown",
   "metadata": {},
   "source": [
    "## MongoDB Aggregate functions:\n",
    "#### 1. avg()\n",
    "#### 2. sum()\n",
    "#### 3. project()"
   ]
  },
  {
   "cell_type": "code",
   "execution_count": 5,
   "metadata": {},
   "outputs": [
    {
     "data": {
      "text/plain": [
       "<pymongo.results.InsertManyResult at 0x7f2aa60f5180>"
      ]
     },
     "execution_count": 5,
     "metadata": {},
     "output_type": "execute_result"
    }
   ],
   "source": [
    "from pymongo import MongoClient\n",
    "\n",
    "# Creation of object MongoClient:\n",
    "client = MongoClient()\n",
    "\n",
    "# Connect with the portnumber and the host:\n",
    "client = MongoClient(\"mongodb://localhost:27017\")\n",
    "\n",
    "# Create/Access database:\n",
    "myDB = client['Students']\n",
    "\n",
    "# Access/create the collections of the database:\n",
    "collection = myDB['studentscores']\n",
    "data = [\n",
    "    {\"user\":\"Jack\", \"subject\":\"Database\", \"score\":80}, \n",
    "    {\"user\":\"Nick\",  \"subject\":\"JavaScript\", \"score\":90}, \n",
    "    {\"user\":\"Nick\",  \"title\":\"Database\", \"score\":85}, \n",
    "    {\"user\":\"Jack\",  \"title\":\"JavaScript\", \"score\":75}, \n",
    "    {\"user\":\"Nick\",  \"title\":\"Data Science\", \"score\":60},\n",
    "    {\"user\":\"Jack\",  \"title\":\"Data Science\", \"score\":95}\n",
    "]\n",
    "\n",
    "# Inserting data into our collection:\n",
    "collection.insert_many(data)"
   ]
  },
  {
   "cell_type": "code",
   "execution_count": 8,
   "metadata": {},
   "outputs": [],
   "source": [
    "# Find Jack's and Nick's total subjects:\n",
    "aggResult = collection.aggregate(\n",
    "[{\n",
    "    \"$group\":\n",
    "    {\"_id\":\"$user\", #User would act as the primary key#\n",
    "    \"Total Records\":{\"$sum\":1}}\n",
    "}]\n",
    ")"
   ]
  },
  {
   "cell_type": "code",
   "execution_count": 9,
   "metadata": {},
   "outputs": [
    {
     "data": {
      "text/plain": [
       "<pymongo.command_cursor.CommandCursor at 0x7f2aa45e4a60>"
      ]
     },
     "execution_count": 9,
     "metadata": {},
     "output_type": "execute_result"
    }
   ],
   "source": [
    "aggResult"
   ]
  },
  {
   "cell_type": "code",
   "execution_count": 10,
   "metadata": {},
   "outputs": [
    {
     "name": "stdout",
     "output_type": "stream",
     "text": [
      "{'_id': 'Nick', 'Total Subject': 3}\n",
      "{'_id': 'Jack', 'Total Subject': 3}\n"
     ]
    }
   ],
   "source": [
    "for record in aggResult:\n",
    "    print(record)"
   ]
  },
  {
   "cell_type": "code",
   "execution_count": 11,
   "metadata": {},
   "outputs": [],
   "source": [
    "# Calculating the total score based on the user:\n",
    "aggMarks = collection.aggregate(\n",
    "    [{\n",
    "        \"$group\":\n",
    "            {\"_id\":\"$user\",\n",
    "            \"Total Marks\":{\"$sum\":\"$score\"}}\n",
    "    }]\n",
    ")"
   ]
  },
  {
   "cell_type": "code",
   "execution_count": 12,
   "metadata": {},
   "outputs": [
    {
     "name": "stdout",
     "output_type": "stream",
     "text": [
      "{'_id': 'Nick', 'Total Marks': 235}\n",
      "{'_id': 'Jack', 'Total Marks': 250}\n"
     ]
    }
   ],
   "source": [
    "for record in aggMarks:\n",
    "    print(record)"
   ]
  },
  {
   "cell_type": "code",
   "execution_count": 15,
   "metadata": {},
   "outputs": [],
   "source": [
    "# Calculating the average score based on the user:\n",
    "aggAverage = collection.aggregate([\n",
    "    {\n",
    "        \"$group\":\n",
    "            {\n",
    "                \"_id\":\"$user\",\n",
    "        \"studentAverageScore\":{\"$avg\":\"$score\"}\n",
    "            }\n",
    "    }\n",
    "])"
   ]
  },
  {
   "cell_type": "code",
   "execution_count": 16,
   "metadata": {},
   "outputs": [
    {
     "name": "stdout",
     "output_type": "stream",
     "text": [
      "{'_id': 'Nick', 'studentAverageScore': 78.33333333333333}\n",
      "{'_id': 'Jack', 'studentAverageScore': 83.33333333333333}\n"
     ]
    }
   ],
   "source": [
    "for record in aggAverage:\n",
    "    print(record)"
   ]
  },
  {
   "cell_type": "markdown",
   "metadata": {},
   "source": [
    "### Using date-time data:"
   ]
  },
  {
   "cell_type": "code",
   "execution_count": 18,
   "metadata": {},
   "outputs": [],
   "source": [
    "import datetime as datetime"
   ]
  },
  {
   "cell_type": "code",
   "execution_count": 19,
   "metadata": {},
   "outputs": [],
   "source": [
    "### Create a new collection\n",
    "data = [{ \"_id\" : 1, \"item\" : \"abc\", \"price\" : 10, \"quantity\" : 2, \"date\" : datetime.datetime.utcnow()},\n",
    "{ \"_id\" : 2, \"item\" : \"jkl\", \"price\" : 20, \"quantity\" : 1, \"date\" : datetime.datetime.utcnow() },\n",
    "{ \"_id\" : 3, \"item\" : \"xyz\", \"price\" : 5, \"quantity\" : 5, \"date\" : datetime.datetime.utcnow() },\n",
    "{ \"_id\" : 4, \"item\" : \"abc\", \"price\" : 10, \"quantity\" : 10, \"date\" : datetime.datetime.utcnow() },\n",
    "{ \"_id\" : 5, \"item\" : \"xyz\", \"price\" : 5, \"quantity\" : 10, \"date\" :datetime.datetime.utcnow() }]"
   ]
  },
  {
   "cell_type": "code",
   "execution_count": 20,
   "metadata": {},
   "outputs": [
    {
     "data": {
      "text/plain": [
       "<pymongo.results.InsertManyResult at 0x7f2aa624ec80>"
      ]
     },
     "execution_count": 20,
     "metadata": {},
     "output_type": "execute_result"
    }
   ],
   "source": [
    "# Creating a new collection\n",
    "myCollection = myDB['stores']\n",
    "myCollection.insert_many(data)"
   ]
  },
  {
   "cell_type": "code",
   "execution_count": 21,
   "metadata": {},
   "outputs": [],
   "source": [
    "aggResult = myCollection.aggregate([\n",
    "    {\n",
    "        \"$group\":{\n",
    "            \"_id\":\"$item\", # Item will be our primary key\n",
    "            \"avgAmount\":{\"$avg\":{\"$multiply\":[\"$price\", \"$quantity\"]}},\n",
    "            \"avgQuantity\":{\"$avg\":\"$quantity\"}\n",
    "        }\n",
    "    }\n",
    "])"
   ]
  },
  {
   "cell_type": "code",
   "execution_count": 22,
   "metadata": {},
   "outputs": [
    {
     "name": "stdout",
     "output_type": "stream",
     "text": [
      "{'_id': 'xyz', 'avgAmount': 37.5, 'avgQuantity': 7.5}\n",
      "{'_id': 'abc', 'avgAmount': 60.0, 'avgQuantity': 6.0}\n",
      "{'_id': 'jkl', 'avgAmount': 20.0, 'avgQuantity': 1.0}\n"
     ]
    }
   ],
   "source": [
    "for i in aggResult:\n",
    "    print(i)"
   ]
  },
  {
   "cell_type": "code",
   "execution_count": 23,
   "metadata": {},
   "outputs": [],
   "source": [
    "# Implementing \"$project\" operator:\n",
    "\n",
    "data=[{\n",
    "  \"_id\" : 1,\n",
    "  \"title\": \"abc123\",\n",
    "  \"isbn\": \"0001122223334\",\n",
    "  \"author\": { \"last\": \"zzz\", \"first\": \"aaa\" },\n",
    "  \"copies\": 5\n",
    "},\n",
    "{\n",
    "  \"_id\" : 2,\n",
    "  \"title\": \"Baked Goods\",\n",
    "  \"isbn\": \"9999999999999\",\n",
    "  \"author\": { \"last\": \"xyz\", \"first\": \"abc\", \"middle\": \"\" },\n",
    "  \"copies\": 2\n",
    "}\n",
    "]"
   ]
  },
  {
   "cell_type": "code",
   "execution_count": 24,
   "metadata": {},
   "outputs": [],
   "source": [
    "# Creating a new collection:\n",
    "collectionBooks = myDB['Books']"
   ]
  },
  {
   "cell_type": "code",
   "execution_count": 25,
   "metadata": {},
   "outputs": [
    {
     "data": {
      "text/plain": [
       "<pymongo.results.InsertManyResult at 0x7f2aa5f5f380>"
      ]
     },
     "execution_count": 25,
     "metadata": {},
     "output_type": "execute_result"
    }
   ],
   "source": [
    "collectionBooks.insert_many(data)"
   ]
  },
  {
   "cell_type": "code",
   "execution_count": 26,
   "metadata": {},
   "outputs": [
    {
     "name": "stdout",
     "output_type": "stream",
     "text": [
      "{'_id': 1, 'title': 'abc123', 'isbn': '0001122223334'}\n",
      "{'_id': 2, 'title': 'Baked Goods', 'isbn': '9999999999999'}\n"
     ]
    }
   ],
   "source": [
    "# \"$project\" is equivalent to SELECT in SQL:\n",
    "for record in collectionBooks.aggregate([{\"$project\":{\"title\":1, \"isbn\":1}}]):\n",
    "    print(record)"
   ]
  },
  {
   "cell_type": "code",
   "execution_count": null,
   "metadata": {},
   "outputs": [],
   "source": []
  }
 ],
 "metadata": {
  "kernelspec": {
   "display_name": "Python 3",
   "language": "python",
   "name": "python3"
  },
  "language_info": {
   "codemirror_mode": {
    "name": "ipython",
    "version": 3
   },
   "file_extension": ".py",
   "mimetype": "text/x-python",
   "name": "python",
   "nbconvert_exporter": "python",
   "pygments_lexer": "ipython3",
   "version": "3.8.3"
  }
 },
 "nbformat": 4,
 "nbformat_minor": 4
}
